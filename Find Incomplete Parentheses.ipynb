{
 "cells": [
  {
   "cell_type": "code",
   "execution_count": 1,
   "metadata": {},
   "outputs": [],
   "source": [
    "parentheses = [\n",
    "    \"{[]{()}}\",\n",
    "    \"[{}{}(]\",\n",
    "    \"{\",\n",
    "    \"{{}\",\n",
    "    \"()\"\n",
    "]"
   ]
  },
  {
   "cell_type": "code",
   "execution_count": 20,
   "metadata": {},
   "outputs": [
    {
     "name": "stdout",
     "output_type": "stream",
     "text": [
      "Input: {[]{()}}\n",
      "Pair List Content: []\n",
      "Balanced\n",
      "\n",
      "Input: [{}{}(]\n",
      "Pair List Content: [']']\n",
      "Not Balanced\n",
      "\n",
      "Input: {\n",
      "Pair List Content: ['}']\n",
      "Not Balanced\n",
      "\n",
      "Input: {{}\n",
      "Pair List Content: ['}']\n",
      "Not Balanced\n",
      "\n",
      "Input: ()\n",
      "Pair List Content: []\n",
      "Balanced\n",
      "\n"
     ]
    }
   ],
   "source": [
    "par_pair = {\n",
    "    \"{\": \"}\",\n",
    "    \"[\": \"]\",\n",
    "    \"(\": \")\"\n",
    "}\n",
    "\n",
    "for par in parentheses:\n",
    "    print(f\"Input: {par}\")\n",
    "    pair_list = []\n",
    "    for char in par:\n",
    "        if char in par_pair:\n",
    "            pair_list.append(par_pair[char])\n",
    "        elif not pair_list or char != pair_list.pop():\n",
    "            break\n",
    "\n",
    "    print(f\"Pair List Content: {pair_list}\")\n",
    "    if pair_list:\n",
    "        print(\"Not Balanced\\n\")\n",
    "    else:\n",
    "        print(\"Balanced\\n\")\n",
    "            \n"
   ]
  },
  {
   "cell_type": "code",
   "execution_count": 3,
   "metadata": {},
   "outputs": [
    {
     "data": {
      "text/plain": [
       "['}']"
      ]
     },
     "execution_count": 3,
     "metadata": {},
     "output_type": "execute_result"
    }
   ],
   "source": [
    "pair_list"
   ]
  }
 ],
 "metadata": {
  "kernelspec": {
   "display_name": "hukumonline",
   "language": "python",
   "name": "python3"
  },
  "language_info": {
   "codemirror_mode": {
    "name": "ipython",
    "version": 3
   },
   "file_extension": ".py",
   "mimetype": "text/x-python",
   "name": "python",
   "nbconvert_exporter": "python",
   "pygments_lexer": "ipython3",
   "version": "3.10.12"
  }
 },
 "nbformat": 4,
 "nbformat_minor": 2
}
