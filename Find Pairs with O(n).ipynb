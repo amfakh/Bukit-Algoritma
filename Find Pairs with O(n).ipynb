{
 "cells": [
  {
   "cell_type": "markdown",
   "metadata": {},
   "source": [
    "#### **Question**"
   ]
  },
  {
   "cell_type": "markdown",
   "metadata": {},
   "source": [
    "Given a list of numbers:\n",
    "\n",
    "```[0, 1, 100, 99, 0, 10, 90, 30, 55, 33, 55, 75, 50, 51, 49, 51, 49, 51]```\n",
    "\n",
    "Write a Python function that returns all unique ordered pairs (a,b) where a≤b, whose sum a+b is equal to 100 [2] [Bonus point if your algorithm has O(n)]"
   ]
  },
  {
   "cell_type": "markdown",
   "metadata": {},
   "source": [
    "#### **Answer**"
   ]
  },
  {
   "cell_type": "code",
   "execution_count": 1,
   "metadata": {},
   "outputs": [],
   "source": [
    "def find_pairs(numbers_list, target_sum=100):\n",
    "    \"\"\"\n",
    "    Finds pairs of numbers in a list that add up to a target sum.\n",
    "\n",
    "    Args:\n",
    "        numbers_list: List of numbers.\n",
    "        target_sum: Target sum.\n",
    "    \"\"\"\n",
    "\n",
    "    # Create a set to store the numbers seen so far and to prevent duplicates\n",
    "    seen = set()\n",
    "    pairs = set()\n",
    "    \n",
    "    for number in numbers_list:\n",
    "        # Calculate the complement\n",
    "        complement = target_sum - number\n",
    "        \n",
    "        # Check if the complement is already 'seen'\n",
    "        if complement in seen:\n",
    "            # Add the pair (a, b) where a ≤ b\n",
    "            a, b = sorted((number, complement))\n",
    "            pairs.add((a, b))\n",
    "        \n",
    "        # Add seen numbers to the set\n",
    "        seen.add(number)\n",
    "    \n",
    "    # Return it as a list\n",
    "    return sorted(list(pairs))"
   ]
  },
  {
   "cell_type": "code",
   "execution_count": 2,
   "metadata": {},
   "outputs": [
    {
     "data": {
      "text/plain": [
       "[(0, 100), (1, 99), (10, 90), (49, 51)]"
      ]
     },
     "execution_count": 2,
     "metadata": {},
     "output_type": "execute_result"
    }
   ],
   "source": [
    "numbers_list = [0, 1, 100, 99, 0, 10, 90, 30, 55, 33, 55, 75, 50, 51, 49, 51, 49, 51]\n",
    "\n",
    "unique_pairs = find_pairs(numbers_list, 100)\n",
    "unique_pairs"
   ]
  },
  {
   "cell_type": "markdown",
   "metadata": {},
   "source": [
    "This algorithm is considered O(n) because \n",
    "- It only needs to iterate through the list once, so there is no nested loop\n",
    "- Each iteration done in a constant amount of work"
   ]
  }
 ],
 "metadata": {
  "kernelspec": {
   "display_name": "Python 3 (ipykernel)",
   "language": "python",
   "name": "python3"
  },
  "language_info": {
   "codemirror_mode": {
    "name": "ipython",
    "version": 3
   },
   "file_extension": ".py",
   "mimetype": "text/x-python",
   "name": "python",
   "nbconvert_exporter": "python",
   "pygments_lexer": "ipython3",
   "version": "3.10.11"
  }
 },
 "nbformat": 4,
 "nbformat_minor": 4
}
